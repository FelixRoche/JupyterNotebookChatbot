{
 "metadata": {
  "language_info": {
   "codemirror_mode": {
    "name": "ipython",
    "version": 3
   },
   "file_extension": ".py",
   "mimetype": "text/x-python",
   "name": "python",
   "nbconvert_exporter": "python",
   "pygments_lexer": "ipython3",
   "version": "3.9.1"
  },
  "orig_nbformat": 2,
  "kernelspec": {
   "name": "python391jvsc74a57bd04ce0e62306dd6a5716965d4519ada776f947e6dfc145b604b11307c10277ef29",
   "display_name": "Python 3.9.1 64-bit"
  },
  "metadata": {
   "interpreter": {
    "hash": "4ce0e62306dd6a5716965d4519ada776f947e6dfc145b604b11307c10277ef29"
   }
  }
 },
 "nbformat": 4,
 "nbformat_minor": 2,
 "cells": [
  {
   "source": [
    "Dies ist das Jupiter Notebook, dieses ist aus sogenannten Zellen aufgebaut welche nacheinander durchgegangen werden.  \n",
    "Dadurch bleibt dein ganzer Code sehr übersichtlich und strukturiert.  \n",
    "In der obersten Zeile werden wir als erstes einer Variable deklarieren (erzeugen) und definieren(einen Wert zuweisen).  \n",
    "Hier ein Beispiel, \"nutzerAktion\" ist hierbei der Variablenname den du aufrufen kannst und \"\" der Inhalt der Variable.  \n",
    "Der Inhalt ist natürlich noch leer, da du keine Eingabe getätigt hast.  \n",
    "In diesem Beispiel ist es eine leere Zeichenkette, welche deine Eingabe enthalten wird.  \n",
    "  \n",
    "- [ ] To do  \n",
    "Nun bist du an der Reihe die Variable chatbotName anzupassen.  \n",
    "Gib dieser nun einen Namen für deinen Chatbot.  "
   ],
   "cell_type": "markdown",
   "metadata": {}
  },
  {
   "source": [
    "nutzerAktion =\"\"\n",
    "chatbotName = \"Felix\""
   ],
   "cell_type": "code",
   "metadata": {},
   "execution_count": null,
   "outputs": []
  },
  {
   "source": [
    "Als nächstes wollen wir uns mit der Ausgabe von Text beschäftigen.  \n",
    "Hierzu nutzen wir das \"print()\" Statement, in die Klammern schreibst du den Text in \"\" welchen du Ausgeben möchtest oder welchen Variablennamen du ausgeben möchtest.  \n",
    "Du kannst mehrere Texte/Variablen mit einem + verbinden und diese dadurch zusammen ausgeben.  "
   ],
   "cell_type": "markdown",
   "metadata": {}
  },
  {
   "cell_type": "code",
   "execution_count": 2,
   "metadata": {},
   "outputs": [
    {
     "output_type": "stream",
     "name": "stdout",
     "text": [
      "Hi, ich bin ein Chatbot!\nWie kann ich dir weiterhelfen? Folgende Aktionen sind verfügbar:\nErzähl mir mehr über dich! | Erzähl mir einen Witz! | Ciao\n"
     ]
    }
   ],
   "source": [
    "print(\"Hi, ich bin ein Chatbot!\")\n",
    "print(\"Ich heiße \" + chatbotName)\n",
    "print(\"Wie kann ich dir weiterhelfen? Folgende Aktionen sind verfügbar:\")"
   ]
  },
  {
   "source": [
    "Überlege dir nun was dein Chatbot können soll, beziehungsweise welche Befehle er akzeptieren soll.  \n",
    "Diese werden wir dann in den nächsten Blöcken hinzufügen.  \n",
    "Mein Bot soll mir mehr über sich erzählen, so wie die Möglichkeit einen Witz zu erzählen.  \n",
    "Wir werden ihm auch noch die Möglichkeit geben Schere, Stein, Papier zu spielen.  \n",
    "\n",
    "- [ ] To do  \n",
    "Überlege dir Aktionen die dein Chatbot können soll und schreibe diese auf"
   ],
   "cell_type": "markdown",
   "metadata": {}
  },
  {
   "cell_type": "code",
   "execution_count": null,
   "metadata": {},
   "outputs": [],
   "source": [
    "print(\"Erzähl mir mehr über dich! | Erzähl mir einen Witz! | Schere, Stein, Papier | Ciao\")"
   ]
  },
  {
   "source": [
    "In der nutzerAktion Variable speichern wir deinen letzten Input um zu entscheiden, welche Aktion wir nutzen.  \n",
    "Dies funktioniert durch eine Input Funktion, bei dieser kann man zusätzlich in Klammern angeben ob etwas davor stehen soll.  \n",
    "In unserem Fall ist das \"Ich: \" um deine Aussagen von denen des Chatbots zu unterscheiden.  "
   ],
   "cell_type": "markdown",
   "metadata": {}
  },
  {
   "cell_type": "code",
   "execution_count": null,
   "metadata": {},
   "outputs": [],
   "source": [
    "nutzerAktion = input(\"Ich: \")"
   ]
  },
  {
   "source": [
    "In den einzelnen Blöcken speichern wir nun die einzelnen Textabfragen beziehungsweise Antworten des Chatbots.  \n",
    "Fangen wir mit der ersten an, in jedem Block arbeiten wir mit \"if-Abfragen\" welche ein Kriterium haben und wenn dieses wahr ist ausgeführt wird.  \n",
    "In unserem Chatbot ist die Frage entspricht die nutzerAktion genau mit der Schreibweise welche wir oben definiert haben überein.  \n",
    "Wenn diese Aussage zutrifft gibt unser Chatbot weitere Informationen/erhält weitere Befehle die du hier hinschreiben kannst.\n",
    "Wichtig hierbei ist, dass du deine Befehle für jede dieser Abfragen einmal weiter einrücken musst (einmal Tab drücken).  "
   ],
   "cell_type": "markdown",
   "metadata": {}
  },
  {
   "cell_type": "code",
   "execution_count": 3,
   "metadata": {},
   "outputs": [],
   "source": [
    "if 'Erzähl mir mehr über dich!' == nutzerAktion:\n",
    "    print(\"Ich bin dein persönlicher Chatbot welchen du programmieren kannst!\")"
   ]
  },
  {
   "source": [
    "Es soll eine Bedingung geben welche dafür sorgt, dass der Bot einen Witz erzählt.  \n",
    "Im nächsten Beispiel siehst du eine optimiertere Version.  \n",
    "Deinem Nutzer kann es passieren, dass er deine Schreibweise nicht einhällt, jedoch trotzdem gerne eine Aktion möchte.\n",
    "Hierfür können wir sogenannt Keywords benutzen, im Endeffekt ist dies ein Wort was immer im Satz vorkommen wird und wir fragen nur ob dieses enthalten ist.  "
   ],
   "cell_type": "markdown",
   "metadata": {}
  },
  {
   "cell_type": "code",
   "execution_count": 4,
   "metadata": {},
   "outputs": [],
   "source": [
    "if 'Witz' in nutzerAktion:\n",
    "    print(\"Was ist gelb und schießt? Eine Banone!\")"
   ]
  },
  {
   "source": [
    "Nun bist du an der Reihe deine eigene If-Abfrage mit Ausgabe zu schreiben.  \n",
    "Als kleine Hilfestellung hast du hier eine kleine To do Liste.\n",
    "\n",
    "\n",
    "- [ ] To do  \n",
    "Es soll eine Bedingung geben welche dafür sorgt, dass der Chatdialog beendet wird, wähle hierfür ein/en \"Abschiedswort/Abschiedssatz\" deiner Wahl.  \n",
    "Schreibe dieses in eine Abfrage, schreibe außerdem den Ausgabetext des Bots.  \n",
    "\n"
   ],
   "cell_type": "markdown",
   "metadata": {}
  },
  {
   "cell_type": "code",
   "execution_count": 5,
   "metadata": {},
   "outputs": [],
   "source": [
    "#Hier if-abfrage einfügen\n",
    "\n",
    "    #Hier print Statement einfügen\n"
   ]
  },
  {
   "source": [
    "Es soll nun die Möglichkeit geben mit dem Bot Schere, Stein, Papier zu spielen.  \n",
    "Hierfür brauchen wir zuerst eine Abfrage ob wir Schere, Stein, Papier spielen wollen.  \n",
    "\n",
    "Danach benötigen wir einen neuen Input, bei welchem der Nutzer seine Antwort (Schere, Stein oder Papier) eingibt.  \n",
    "Eine weitere Abfrage im Falle von Schere haben wir schon für dich vorgeschrieben, du musst nun die 2 anderen Fälle abdecken.  \n",
    "\n",
    "Als nächstes haben wir noch eine Variable, welche die Anzahl der Runden enthällt.  \n",
    "Momentan spielt man nur eine Runde, versuche diese noch zu ändern, so dass man 3 Runden spielt.  \n",
    "\n",
    "- [ ] To do  \n",
    "Eine Abfrage ob wir Schere, Stein, Papier spielen wollen.  \n",
    "Ein neuer Input welcher \"Schere\", \"Stein\" oder \"Papier\" enthällt.  \n",
    "Eine Rückgabe des Bots, was gewählt wurde und ob wir gewonnen oder verloren haben.  \n",
    "Eine Erhöhung der Spielrunden von 1 auf 3."
   ],
   "cell_type": "markdown",
   "metadata": {}
  },
  {
   "source": [
    "anzahlRunden = 0\n",
    "\n",
    "while anzahlRunden < 1\n",
    "\n",
    "    #Hier if-Abfrage einfügen\n",
    "\n",
    "        print(\"Schere, Stein, Papier!\")\n",
    "        #Hier Input hinzufügen\n",
    "\n",
    "        if 'Schere' in nutzerAktion:\n",
    "            print(\"Stein\")\n",
    "            print(\"Du hast leider verloren.\")\n",
    "        #Hier if Abfrage für Stein einfügen\n",
    "            \n",
    "        #Hier if Abfrage für Papier einfügen    \n",
    "\n"
   ],
   "cell_type": "code",
   "metadata": {},
   "execution_count": null,
   "outputs": []
  },
  {
   "source": [
    "Nun ist deine Kreativität gefragt!  \n",
    "Schreibe deinen Bot nun weiter mit deinen ausgedachten Aktionen, welche du vorher dir heruntergeschrieben hast.  \n",
    "\n",
    "- [ ] To do  \n",
    "Erweitere deinen Bot"
   ],
   "cell_type": "markdown",
   "metadata": {}
  }
 ]
}